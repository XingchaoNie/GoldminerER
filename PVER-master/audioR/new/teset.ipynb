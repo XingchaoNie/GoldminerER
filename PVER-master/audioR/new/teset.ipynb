{
 "cells": [
  {
   "cell_type": "code",
   "execution_count": 1,
   "metadata": {},
   "outputs": [
    {
     "name": "stderr",
     "output_type": "stream",
     "text": [
      "c:\\Users\\nie xingchao\\.conda\\envs\\python37\\lib\\site-packages\\tqdm\\auto.py:21: TqdmWarning: IProgress not found. Please update jupyter and ipywidgets. See https://ipywidgets.readthedocs.io/en/stable/user_install.html\n",
      "  from .autonotebook import tqdm as notebook_tqdm\n"
     ]
    },
    {
     "name": "stdout",
     "output_type": "stream",
     "text": [
      "file path: data/y1995.wav \t predict: angry \t score:0.9998248219490051 \n"
     ]
    }
   ],
   "source": [
    "import os\n",
    "import random\n",
    "\n",
    "import librosa\n",
    "import torch\n",
    "import torch.nn as nn\n",
    "import torch.nn.functional as F\n",
    "from transformers import AutoConfig, Wav2Vec2FeatureExtractor, HubertPreTrainedModel, HubertModel\n",
    "\n",
    "model_name_or_path = \"pretrained_models/hubert-base-ch-speech-emotion-recognition\"\n",
    "duration = 6\n",
    "sample_rate = 16000\n",
    "\n",
    "config = AutoConfig.from_pretrained(\n",
    "    pretrained_model_name_or_path=model_name_or_path,\n",
    ")\n",
    "\n",
    "\n",
    "def id2class(id):\n",
    "    if id == 0:\n",
    "        return \"angry\"\n",
    "    elif id == 1:\n",
    "        return \"fear\"\n",
    "    elif id == 2:\n",
    "        return \"happy\"\n",
    "    elif id == 3:\n",
    "        return \"neutral\"\n",
    "    elif id == 4:\n",
    "        return \"sad\"\n",
    "    else:\n",
    "        return \"surprise\"\n",
    "\n",
    "\n",
    "def predict(path, processor, model):\n",
    "    speech, sr = librosa.load(path=path, sr=sample_rate)\n",
    "    speech = processor(speech, padding=\"max_length\", truncation=True, max_length=duration * sr,\n",
    "                       return_tensors=\"pt\", sampling_rate=sr).input_values\n",
    "    with torch.no_grad():\n",
    "        logit = model(speech)\n",
    "    score = F.softmax(logit, dim=1).detach().cpu().numpy()[0]\n",
    "    id = torch.argmax(logit).cpu().numpy()\n",
    "    print(f\"file path: {path} \\t predict: {id2class(id)} \\t score:{score[id]} \")\n",
    "\n",
    "\n",
    "class HubertClassificationHead(nn.Module):\n",
    "    def __init__(self, config):\n",
    "        super().__init__()\n",
    "        self.dense = nn.Linear(config.hidden_size, config.hidden_size)\n",
    "        self.dropout = nn.Dropout(config.classifier_dropout)\n",
    "        self.out_proj = nn.Linear(config.hidden_size, config.num_class)\n",
    "\n",
    "    def forward(self, x):\n",
    "        x = self.dense(x)\n",
    "        x = torch.tanh(x)\n",
    "        x = self.dropout(x)\n",
    "        x = self.out_proj(x)\n",
    "        return x\n",
    "\n",
    "\n",
    "class HubertForSpeechClassification(HubertPreTrainedModel):\n",
    "    def __init__(self, config):\n",
    "        super().__init__(config)\n",
    "        self.hubert = HubertModel(config)\n",
    "        self.classifier = HubertClassificationHead(config)\n",
    "        self.init_weights()\n",
    "\n",
    "    def forward(self, x):\n",
    "        outputs = self.hubert(x)\n",
    "        hidden_states = outputs[0]\n",
    "        x = torch.mean(hidden_states, dim=1)\n",
    "        x = self.classifier(x)\n",
    "        return x\n",
    "\n",
    "\n",
    "processor = Wav2Vec2FeatureExtractor.from_pretrained(model_name_or_path)\n",
    "model = HubertForSpeechClassification.from_pretrained(\n",
    "    model_name_or_path,\n",
    "    config=config,\n",
    ")\n",
    "model.eval()\n",
    "\n",
    "file_path = [f\"data/{path}\" for path in os.listdir(\"data\")]\n",
    "path = random.sample(file_path, 1)[0]\n",
    "predict(path, processor, model)\n"
   ]
  }
 ],
 "metadata": {
  "kernelspec": {
   "display_name": "test",
   "language": "python",
   "name": "python3"
  },
  "language_info": {
   "codemirror_mode": {
    "name": "ipython",
    "version": 3
   },
   "file_extension": ".py",
   "mimetype": "text/x-python",
   "name": "python",
   "nbconvert_exporter": "python",
   "pygments_lexer": "ipython3",
   "version": "3.7.16"
  },
  "orig_nbformat": 4
 },
 "nbformat": 4,
 "nbformat_minor": 2
}
